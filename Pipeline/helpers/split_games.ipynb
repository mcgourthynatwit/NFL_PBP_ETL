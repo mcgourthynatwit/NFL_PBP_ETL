{
 "cells": [
  {
   "cell_type": "markdown",
   "metadata": {},
   "source": [
    "This file is focused on splitting the entire pbp file into weeks and individual games with the plays sorted in order from start to end."
   ]
  },
  {
   "cell_type": "code",
   "execution_count": null,
   "metadata": {},
   "outputs": [],
   "source": [
    "import pandas as pd\n",
    "import re\n",
    "import os"
   ]
  },
  {
   "cell_type": "code",
   "execution_count": 4,
   "metadata": {},
   "outputs": [
    {
     "name": "stdout",
     "output_type": "stream",
     "text": [
      "Index(['GameId', 'GameDate', 'Quarter', 'Minute', 'Second', 'OffenseTeam',\n",
      "       'DefenseTeam', 'Down', 'ToGo', 'YardLine', 'Unnamed: 10',\n",
      "       'SeriesFirstDown', 'Unnamed: 12', 'NextScore', 'Description', 'TeamWin',\n",
      "       'Unnamed: 16', 'Unnamed: 17', 'SeasonYear', 'Yards', 'Formation',\n",
      "       'PlayType', 'IsRush', 'IsPass', 'IsIncomplete', 'IsTouchdown',\n",
      "       'PassType', 'IsSack', 'IsChallenge', 'IsChallengeReversed',\n",
      "       'Challenger', 'IsMeasurement', 'IsInterception', 'IsFumble',\n",
      "       'IsPenalty', 'IsTwoPointConversion', 'IsTwoPointConversionSuccessful',\n",
      "       'RushDirection', 'YardLineFixed', 'YardLineDirection',\n",
      "       'IsPenaltyAccepted', 'PenaltyTeam', 'IsNoPlay', 'PenaltyType',\n",
      "       'PenaltyYards'],\n",
      "      dtype='object')\n"
     ]
    }
   ],
   "source": [
    "df = pd.read_csv('../../Data/pbp-2023.csv')\n",
    "print(df.columns)"
   ]
  },
  {
   "cell_type": "code",
   "execution_count": 5,
   "metadata": {},
   "outputs": [],
   "source": [
    "dropped_columns = ['Unnamed: 10', 'Unnamed: 12', 'Unnamed: 16', 'Unnamed: 17', 'IsMeasurement']\n",
    "df = df.drop(columns = dropped_columns)"
   ]
  },
  {
   "cell_type": "code",
   "execution_count": 6,
   "metadata": {},
   "outputs": [],
   "source": [
    "teams = []\n",
    "\n",
    "for team in df['OffenseTeam']:\n",
    "    if team not in teams:\n",
    "        teams.append(team)"
   ]
  },
  {
   "cell_type": "code",
   "execution_count": 7,
   "metadata": {},
   "outputs": [],
   "source": [
    "dates = (df['GameDate'].unique())\n",
    "dates = pd.to_datetime(dates)\n",
    "dates = sorted(dates)"
   ]
  },
  {
   "cell_type": "code",
   "execution_count": 8,
   "metadata": {},
   "outputs": [],
   "source": [
    "def get_week(dates):\n",
    "    week_numbers = []\n",
    "    week_num = 1\n",
    "\n",
    "    # Initialize week_start to the Thursday before the first game\n",
    "    week_start = dates[0] - pd.Timedelta(days=(dates[0].weekday() + 4) % 7)\n",
    "\n",
    "    for date in dates:\n",
    "        # Check if we need to start a new week\n",
    "        if date - week_start >= pd.Timedelta(days=7):  \n",
    "            week_num += 1\n",
    "            week_start = date - pd.Timedelta(days=(date.weekday() + 4) % 7)  # Adjust to the new Thursday\n",
    "\n",
    "        date_str = date.strftime('%Y-%m-%d')\n",
    "        week_numbers.append((date_str, week_num))\n",
    "\n",
    "    return week_numbers"
   ]
  },
  {
   "cell_type": "code",
   "execution_count": 9,
   "metadata": {},
   "outputs": [],
   "source": [
    "dates_with_weeks = get_week(dates)"
   ]
  },
  {
   "cell_type": "code",
   "execution_count": 83,
   "metadata": {},
   "outputs": [],
   "source": [
    "for i in range(1, 19):\n",
    "    file_dir = os.path.join('../../Clean_Data/Weeks', str(i))\n",
    "    os.makedirs(file_dir)"
   ]
  },
  {
   "cell_type": "code",
   "execution_count": 29,
   "metadata": {},
   "outputs": [],
   "source": [
    "dir = '../../Clean_Data/Weeks'\n",
    "def create_files(week, game_id_arr):\n",
    "    week_dir = os.path.join(dir, week)\n",
    "\n",
    "    if not os.path.exists(week_dir):\n",
    "            os.makedirs(week_dir)\n",
    "\n",
    "    for game_id in game_id_arr:\n",
    "        file_path = os.path.join(week_dir, f\"{game_id}.csv\")\n",
    "        with open(file_path, 'w') as f:\n",
    "            pass \n",
    "        \n"
   ]
  },
  {
   "cell_type": "code",
   "execution_count": 38,
   "metadata": {},
   "outputs": [
    {
     "name": "stdout",
     "output_type": "stream",
     "text": [
      "2023-09-07\n",
      "2023-09-10\n",
      "2023-09-11\n",
      "2023-09-14\n",
      "2023-09-17\n",
      "2023-09-18\n",
      "2023-09-21\n",
      "2023-09-24\n",
      "2023-09-25\n",
      "2023-09-28\n",
      "2023-10-01\n",
      "2023-10-02\n",
      "2023-10-05\n",
      "2023-10-08\n",
      "2023-10-09\n",
      "2023-10-12\n",
      "2023-10-15\n",
      "2023-10-16\n",
      "2023-10-19\n",
      "2023-10-22\n",
      "2023-10-23\n",
      "2023-10-26\n",
      "2023-10-29\n",
      "2023-10-30\n",
      "2023-11-02\n",
      "2023-11-05\n",
      "2023-11-06\n",
      "2023-11-09\n",
      "2023-11-12\n",
      "2023-11-13\n",
      "2023-11-16\n",
      "2023-11-19\n",
      "2023-11-20\n",
      "2023-11-23\n",
      "2023-11-24\n",
      "2023-11-26\n",
      "2023-11-27\n",
      "2023-11-30\n",
      "2023-12-03\n",
      "2023-12-04\n",
      "2023-12-07\n",
      "2023-12-10\n",
      "2023-12-11\n",
      "2023-12-14\n",
      "2023-12-16\n",
      "2023-12-17\n",
      "2023-12-18\n",
      "2023-12-21\n",
      "2023-12-23\n",
      "2023-12-24\n",
      "2023-12-25\n",
      "2023-12-28\n",
      "2023-12-30\n",
      "2023-12-31\n",
      "2024-01-06\n",
      "2024-01-07\n"
     ]
    }
   ],
   "source": [
    "for date in dates_with_weeks:\n",
    "    print(date[0])"
   ]
  },
  {
   "cell_type": "code",
   "execution_count": 84,
   "metadata": {},
   "outputs": [],
   "source": [
    "current_week = 1\n",
    "\n",
    "game_ids = []\n",
    "\n",
    "for date in dates_with_weeks:\n",
    "    if date[1] is not current_week:\n",
    "        create_files(str(current_week), game_ids)\n",
    "        game_ids = []\n",
    "        current_week += 1\n",
    "       \n",
    "    games_on_date = df[df['GameDate'] == date[0]]\n",
    "\n",
    "    for _, row in games_on_date.iterrows():\n",
    "        if row['GameId'] not in game_ids:\n",
    "            game_ids.append(row['GameId'])\n",
    "\n",
    "create_files(str(current_week), game_ids)\n"
   ]
  },
  {
   "cell_type": "code",
   "execution_count": 60,
   "metadata": {},
   "outputs": [
    {
     "data": {
      "text/plain": [
       "(208, 40)"
      ]
     },
     "execution_count": 60,
     "metadata": {},
     "output_type": "execute_result"
    }
   ],
   "source": [
    "game_df = df[df['GameId'] == int(game_id)]\n",
    "\n",
    "game_df.shape"
   ]
  },
  {
   "cell_type": "code",
   "execution_count": 63,
   "metadata": {},
   "outputs": [
    {
     "name": "stdout",
     "output_type": "stream",
     "text": [
      "Index(['GameId', 'GameDate', 'Quarter', 'Minute', 'Second', 'OffenseTeam',\n",
      "       'DefenseTeam', 'Down', 'ToGo', 'YardLine', 'SeriesFirstDown',\n",
      "       'NextScore', 'Description', 'TeamWin', 'SeasonYear', 'Yards',\n",
      "       'Formation', 'PlayType', 'IsRush', 'IsPass', 'IsIncomplete',\n",
      "       'IsTouchdown', 'PassType', 'IsSack', 'IsChallenge',\n",
      "       'IsChallengeReversed', 'Challenger', 'IsInterception', 'IsFumble',\n",
      "       'IsPenalty', 'IsTwoPointConversion', 'IsTwoPointConversionSuccessful',\n",
      "       'RushDirection', 'YardLineFixed', 'YardLineDirection',\n",
      "       'IsPenaltyAccepted', 'PenaltyTeam', 'IsNoPlay', 'PenaltyType',\n",
      "       'PenaltyYards'],\n",
      "      dtype='object')\n"
     ]
    }
   ],
   "source": [
    "print(game_df.columns)"
   ]
  },
  {
   "cell_type": "code",
   "execution_count": 122,
   "metadata": {},
   "outputs": [],
   "source": [
    "def calc_duration(play):\n",
    "    # elapsed\n",
    "    quarter_second = {\n",
    "        1 : 0,\n",
    "        2 : 900,\n",
    "        3 : 1800,\n",
    "        4 : 2700,\n",
    "        5 : 3600, # OT\n",
    "    }\n",
    "\n",
    "    quarter_elapsed_seconds = 900 - ((play['Minute'] * 60) + play['Second'])\n",
    "    \n",
    "    elapsed_seconds = quarter_second.get(play['Quarter'], 0) + quarter_elapsed_seconds\n",
    "\n",
    "    return elapsed_seconds"
   ]
  },
  {
   "cell_type": "code",
   "execution_count": null,
   "metadata": {},
   "outputs": [],
   "source": [
    "directory = '../../Clean_Data/Weeks'\n",
    "\n",
    "for week in os.listdir(directory):\n",
    "    week_path = os.path.join(directory, week)\n",
    "\n",
    "    for game in os.listdir(os.path.join(directory, week)):\n",
    "        game_path = os.path.join(week_path, game)\n",
    "\n",
    "        game_id = game[:-4] # remove file ext\n",
    "\n",
    "        game_df = df[df['GameId'] == int(game_id)]\n",
    "        \n",
    "        game_df['Duration'] = game_df.apply(calc_duration, axis=1)\n",
    "\n",
    "\n",
    "        offense_team = game_df.iloc[0]['OffenseTeam']\n",
    "        defense_team = game_df.iloc[0]['DefenseTeam']\n",
    "\n",
    "        game_df[f'{offense_team}'] = 0\n",
    "        game_df[f'{defense_team}'] = 0\n",
    "\n",
    "        game_df.sort_values(by='Duration', inplace=True)\n",
    "        game_df.to_csv(game_path, index=False)\n",
    "\n"
   ]
  }
 ],
 "metadata": {
  "kernelspec": {
   "display_name": "Python 3",
   "language": "python",
   "name": "python3"
  },
  "language_info": {
   "codemirror_mode": {
    "name": "ipython",
    "version": 3
   },
   "file_extension": ".py",
   "mimetype": "text/x-python",
   "name": "python",
   "nbconvert_exporter": "python",
   "pygments_lexer": "ipython3",
   "version": "3.11.9"
  }
 },
 "nbformat": 4,
 "nbformat_minor": 2
}
