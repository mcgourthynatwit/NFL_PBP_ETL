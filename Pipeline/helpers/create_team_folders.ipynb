{
 "cells": [
  {
   "cell_type": "markdown",
   "metadata": {},
   "source": [
    "This function will create team folders for each NFL team, inside will be CSV files for offense, defense, players"
   ]
  },
  {
   "cell_type": "code",
   "execution_count": 1,
   "metadata": {},
   "outputs": [],
   "source": [
    "import os\n",
    "import pandas as pd"
   ]
  },
  {
   "cell_type": "code",
   "execution_count": 5,
   "metadata": {},
   "outputs": [],
   "source": [
    "df = pd.read_csv('../../Data/pbp-2023.csv')"
   ]
  },
  {
   "cell_type": "code",
   "execution_count": 6,
   "metadata": {},
   "outputs": [],
   "source": [
    "teams = []\n",
    "for idx, play in df.iterrows():\n",
    "    if play['OffenseTeam'] not in teams:\n",
    "        teams.append(play['OffenseTeam'])"
   ]
  },
  {
   "cell_type": "code",
   "execution_count": 20,
   "metadata": {},
   "outputs": [],
   "source": [
    "offense_subfolders = ['Passing', 'Rushing', 'Conversions']\n",
    "defense_subfolders = ['Passing', 'Rushing', 'Conversions']\n",
    "player_subfolders = ['Qb', 'Rb', 'Rec']"
   ]
  },
  {
   "cell_type": "code",
   "execution_count": 22,
   "metadata": {},
   "outputs": [],
   "source": [
    "def make_subfolders(dir, subfolder_name, subfolders):\n",
    "    subfolder_dir = os.path.join(dir, subfolder_name)\n",
    "    os.makedirs(subfolder_dir)\n",
    "\n",
    "    for subfolder in subfolders:\n",
    "        sub_dir = os.path.join(subfolder_dir, subfolder)\n",
    "        os.makedirs(sub_dir)\n",
    "\n",
    "    "
   ]
  },
  {
   "cell_type": "code",
   "execution_count": 24,
   "metadata": {},
   "outputs": [],
   "source": [
    "dir = '../../Clean_Data/Teams'\n",
    "for team in teams:\n",
    "    team_dir = os.path.join(dir, team)\n",
    "    os.makedirs(team_dir)\n",
    "    make_subfolders(team_dir, 'Offense', offense_subfolders)\n",
    "    make_subfolders(team_dir, 'Defense', defense_subfolders)\n",
    "    make_subfolders(team_dir, 'Players', player_subfolders)"
   ]
  }
 ],
 "metadata": {
  "kernelspec": {
   "display_name": "Python 3",
   "language": "python",
   "name": "python3"
  },
  "language_info": {
   "codemirror_mode": {
    "name": "ipython",
    "version": 3
   },
   "file_extension": ".py",
   "mimetype": "text/x-python",
   "name": "python",
   "nbconvert_exporter": "python",
   "pygments_lexer": "ipython3",
   "version": "3.11.9"
  }
 },
 "nbformat": 4,
 "nbformat_minor": 2
}
