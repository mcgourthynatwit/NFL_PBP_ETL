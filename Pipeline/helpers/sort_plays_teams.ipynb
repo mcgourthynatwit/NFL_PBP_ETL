{
 "cells": [
  {
   "cell_type": "markdown",
   "metadata": {},
   "source": [
    "Organizes the plays inside the weeks folder to the according team"
   ]
  },
  {
   "cell_type": "code",
   "execution_count": 1,
   "metadata": {},
   "outputs": [],
   "source": [
    "import pandas as pd\n",
    "import os"
   ]
  },
  {
   "cell_type": "code",
   "execution_count": 7,
   "metadata": {},
   "outputs": [],
   "source": [
    "teams_dir = '../../Clean_Data/Teams'\n",
    "weeks_dir = '../../Clean_Data/Weeks'"
   ]
  },
  {
   "cell_type": "code",
   "execution_count": 24,
   "metadata": {},
   "outputs": [],
   "source": [
    "def sort_play(play, week):\n",
    "    play['Week'] = week\n",
    "\n",
    "    offense_team = play['OffenseTeam']\n",
    "    defense_team = play['DefenseTeam']\n",
    "\n",
    "    offense_team_path = os.path.join(teams_dir, offense_team, \"Offense\", \"plays.csv\")\n",
    "    defense_team_path = os.path.join(teams_dir, defense_team, \"Defense\", \"plays.csv\")\n",
    "\n",
    "    append_play(offense_team_path, play)\n",
    "    append_play(defense_team_path, play)"
   ]
  },
  {
   "cell_type": "code",
   "execution_count": 27,
   "metadata": {},
   "outputs": [],
   "source": [
    "def append_play(path, play):\n",
    "    play_df = pd.DataFrame([play])\n",
    "\n",
    "    if os.path.exists(path):\n",
    "        play_df.to_csv(path, mode='a', header=False, index=False)\n",
    "    else:\n",
    "        play_df.to_csv(path, mode='w', index=False)\n"
   ]
  },
  {
   "cell_type": "code",
   "execution_count": 22,
   "metadata": {},
   "outputs": [],
   "source": [
    "def sort_game(game_path, week):\n",
    "    game_df = pd.read_csv(game_path)\n",
    "    \n",
    "    for _, play in game_df.iterrows():\n",
    "        sort_play(play, week)"
   ]
  },
  {
   "cell_type": "code",
   "execution_count": 28,
   "metadata": {},
   "outputs": [],
   "source": [
    "for week in os.listdir(weeks_dir):\n",
    "    current_week = week\n",
    "    week_path = os.path.join(weeks_dir, week)\n",
    "    for game in os.listdir(week_path):\n",
    "        game_path = os.path.join(week_path, game)\n",
    "        sort_game(game_path, current_week)\n"
   ]
  },
  {
   "cell_type": "code",
   "execution_count": 33,
   "metadata": {},
   "outputs": [
    {
     "name": "stdout",
     "output_type": "stream",
     "text": [
      "Index(['GameId', 'GameDate', 'Quarter', 'Minute', 'Second', 'OffenseTeam',\n",
      "       'DefenseTeam', 'Down', 'ToGo', 'YardLine', 'SeriesFirstDown',\n",
      "       'NextScore', 'Description', 'TeamWin', 'SeasonYear', 'Yards',\n",
      "       'Formation', 'PlayType', 'IsRush', 'IsPass', 'IsIncomplete',\n",
      "       'IsTouchdown', 'PassType', 'IsSack', 'IsChallenge',\n",
      "       'IsChallengeReversed', 'Challenger', 'IsInterception', 'IsFumble',\n",
      "       'IsPenalty', 'IsTwoPointConversion', 'IsTwoPointConversionSuccessful',\n",
      "       'RushDirection', 'YardLineFixed', 'YardLineDirection',\n",
      "       'IsPenaltyAccepted', 'PenaltyTeam', 'IsNoPlay', 'PenaltyType',\n",
      "       'PenaltyYards', 'Duration', 'BUF', 'MIA', 'Week'],\n",
      "      dtype='object')\n"
     ]
    }
   ],
   "source": [
    "print(team_df.columns)"
   ]
  },
  {
   "cell_type": "code",
   "execution_count": 93,
   "metadata": {},
   "outputs": [
    {
     "name": "stdout",
     "output_type": "stream",
     "text": [
      "Week: 18, Offense Team: DAL, Pass Yards: 309, SackYards: 0, Actual: 309\n",
      "Week: 9, Offense Team: DAL, Pass Yards: 378, SackYards: -41, Actual: 337\n",
      "Week: 11, Offense Team: DAL, Pass Yards: 204, SackYards: 0, Actual: 204\n",
      "Week: 16, Offense Team: DAL, Pass Yards: 253, SackYards: -11, Actual: 242\n",
      "Week: 6, Offense Team: DAL, Pass Yards: 272, SackYards: -26, Actual: 246\n",
      "Week: 17, Offense Team: DAL, Pass Yards: 345, SackYards: -22, Actual: 323\n",
      "Week: 1, Offense Team: DAL, Pass Yards: 143, SackYards: 0, Actual: 143\n",
      "Week: 10, Offense Team: DAL, Pass Yards: 472, SackYards: 0, Actual: 472\n",
      "Week: 8, Offense Team: DAL, Pass Yards: 307, SackYards: -22, Actual: 285\n",
      "Week: 4, Offense Team: DAL, Pass Yards: 281, SackYards: -28, Actual: 253\n",
      "Week: 15, Offense Team: DAL, Pass Yards: 134, SackYards: -28, Actual: 106\n",
      "Week: 3, Offense Team: DAL, Pass Yards: 249, SackYards: -18, Actual: 231\n",
      "Week: 12, Offense Team: DAL, Pass Yards: 331, SackYards: 0, Actual: 331\n",
      "Week: 2, Offense Team: DAL, Pass Yards: 255, SackYards: -7, Actual: 248\n",
      "Week: 13, Offense Team: DAL, Pass Yards: 299, SackYards: -24, Actual: 275\n",
      "Week: 5, Offense Team: DAL, Pass Yards: 161, SackYards: -21, Actual: 140\n",
      "Week: 14, Offense Team: DAL, Pass Yards: 271, SackYards: -18, Actual: 253\n"
     ]
    }
   ],
   "source": [
    "# Load the team's CSV file\n",
    "team_path = os.path.join(teams_dir, 'DAL', \"Offense\", \"plays.csv\")\n",
    "team_df = pd.read_csv(team_path)\n",
    "\n",
    "# Initialize an empty dictionary to store pass yards per week\n",
    "team_pass_yards_by_week = {}\n",
    "\n",
    "# Iterate over each unique week in the 'WEEKS' column\n",
    "for week in team_df['Week'].unique():\n",
    "    # Filter the DataFrame for the current week\n",
    "    week_df = team_df[team_df['Week'] == week]\n",
    "\n",
    "    # Initialize pass yards for this week\n",
    "    team_pass_yards = 0\n",
    "    team_sack_yards = 0\n",
    "    # Iterate over each play in the filtered DataFrame\n",
    "    for _, play in week_df.iterrows():\n",
    "        # Apply the conditions to count the passing plays\n",
    "        if (\n",
    "            play['IsPass'] == 1 and\n",
    "            play['IsNoPlay'] == 0 and\n",
    "            play['IsInterception'] == 0 and \n",
    "            play['PlayType'] == 'PASS' and \n",
    "            play['IsIncomplete'] == 0\n",
    "        ):\n",
    "            team_pass_yards += play['Yards']  # Add yards gained to the total\n",
    "\n",
    "        if( \n",
    "            play['IsSack'] == 1 and \n",
    "            play['IsNoPlay'] == 0\n",
    "        ):\n",
    "            team_sack_yards += play['Yards']\n",
    "    # Store the result in the dictionary for this week\n",
    "    team_pass_yards_by_week[week] = team_pass_yards\n",
    "    team_actual = team_pass_yards + team_sack_yards\n",
    "    # Print the results for each week\n",
    "    print(f\"Week: {week}, Offense Team: {play['OffenseTeam']}, Pass Yards: {team_pass_yards}, SackYards: {team_sack_yards}, Actual: {team_actual}\")\n"
   ]
  }
 ],
 "metadata": {
  "kernelspec": {
   "display_name": "Python 3",
   "language": "python",
   "name": "python3"
  },
  "language_info": {
   "codemirror_mode": {
    "name": "ipython",
    "version": 3
   },
   "file_extension": ".py",
   "mimetype": "text/x-python",
   "name": "python",
   "nbconvert_exporter": "python",
   "pygments_lexer": "ipython3",
   "version": "3.11.9"
  }
 },
 "nbformat": 4,
 "nbformat_minor": 2
}
