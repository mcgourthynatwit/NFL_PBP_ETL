{
 "cells": [
  {
   "cell_type": "code",
   "execution_count": 54,
   "metadata": {},
   "outputs": [],
   "source": [
    "import pandas as pd\n",
    "import os\n",
    "import re"
   ]
  },
  {
   "cell_type": "code",
   "execution_count": 53,
   "metadata": {},
   "outputs": [],
   "source": [
    "weeks_dir = '../../Clean_Data/Weeks'"
   ]
  },
  {
   "cell_type": "code",
   "execution_count": 65,
   "metadata": {},
   "outputs": [],
   "source": [
    "def extract_yardage(play_description):\n",
    "    match = re.search(r'FOR (-?\\d+) YARDS?', play_description)\n",
    "    if match:\n",
    "        return int(match.group(1))\n",
    "    else:\n",
    "        return 0"
   ]
  },
  {
   "cell_type": "code",
   "execution_count": 66,
   "metadata": {},
   "outputs": [],
   "source": [
    "# Sets play_type & IsRush accordingly, using yards function to extract and set yards gained\n",
    "def fix_play_row(play):\n",
    "    play['PlayType'] = 'RUSH'\n",
    "    play['IsRush'] = 1\n",
    "    yards = extract_yardage(play['Description'])\n",
    "    play['Yards'] = yards\n",
    "    \n",
    "    return play"
   ]
  },
  {
   "cell_type": "code",
   "execution_count": 86,
   "metadata": {},
   "outputs": [],
   "source": [
    "def find_direct_snap(df, direct_snaps):\n",
    "    for index, play in df.iterrows():\n",
    "        if pd.isna(play['PlayType']) and not (\n",
    "        play['Description'].startswith(\"TIMEOUT\") or\n",
    "        play['Description'] == 'TWO-MINUTE WARNING' or\n",
    "        play['Description'].startswith('END')\n",
    "        ):\n",
    "            play_fixed = fix_play_row(play)\n",
    "            direct_snaps.append(play_fixed)\n",
    "            df.loc[index] = play_fixed\n"
   ]
  },
  {
   "cell_type": "code",
   "execution_count": 93,
   "metadata": {},
   "outputs": [],
   "source": [
    "direct_snaps = []\n",
    "\n",
    "for week in os.listdir(weeks_dir):\n",
    "    week_dir = os.path.join(weeks_dir, week)\n",
    "\n",
    "    for file in os.listdir(week_dir):\n",
    "        week_df = pd.read_csv(os.path.join(week_dir, file))\n",
    "        find_direct_snap(week_df, direct_snaps)    \n",
    " "
   ]
  },
  {
   "cell_type": "code",
   "execution_count": 94,
   "metadata": {},
   "outputs": [
    {
     "name": "stdout",
     "output_type": "stream",
     "text": [
      "72\n"
     ]
    }
   ],
   "source": [
    "print(len(direct_snaps))"
   ]
  },
  {
   "cell_type": "code",
   "execution_count": 70,
   "metadata": {},
   "outputs": [],
   "source": [
    "direct_snap_df = pd.DataFrame(direct_snaps)\n",
    "\n",
    "direct_snap_df.to_csv('direct_snaps.csv', index=False)\n"
   ]
  }
 ],
 "metadata": {
  "kernelspec": {
   "display_name": "Python 3",
   "language": "python",
   "name": "python3"
  },
  "language_info": {
   "codemirror_mode": {
    "name": "ipython",
    "version": 3
   },
   "file_extension": ".py",
   "mimetype": "text/x-python",
   "name": "python",
   "nbconvert_exporter": "python",
   "pygments_lexer": "ipython3",
   "version": "3.11.9"
  }
 },
 "nbformat": 4,
 "nbformat_minor": 2
}
