'''
There is an issue in the dataset that direct snaps rushes are not recognized as a play and in turn do not add to rushing yardage and run play counts
'''

import pandas as pd 

def load_game():
    continue

def extract_yardage(play_description):
    match = re.search(r'FOR (-?\d+) YARDS?', play_description)
    if match:
        return int(match.group(1))
    else:
        return 0
